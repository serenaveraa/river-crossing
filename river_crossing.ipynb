{
 "cells": [
  {
   "cell_type": "markdown",
   "metadata": {},
   "source": [
    "## Práctico 1: River Crossing"
   ]
  },
  {
   "cell_type": "markdown",
   "metadata": {},
   "source": [
    "El objetivo de este práctico es comenzar a familiarizarse con el funcionamiento de los ambientes de gym/gymnasium"
   ]
  },
  {
   "cell_type": "markdown",
   "metadata": {},
   "source": [
    "### Dependencias"
   ]
  },
  {
   "cell_type": "code",
   "execution_count": 2,
   "metadata": {},
   "outputs": [],
   "source": [
    "from river_crossing_env import RiverCrossingEnv\n",
    "from input_agent import InputAgent\n",
    "from river_crossing_utils import finish"
   ]
  },
  {
   "cell_type": "code",
   "execution_count": 13,
   "metadata": {},
   "outputs": [
    {
     "name": "stdout",
     "output_type": "stream",
     "text": [
      "\n",
      "Virtualenv\n",
      "Python:         3.11.9\n",
      "Implementation: CPython\n",
      "Path:           C:\\Users\\Karina\\AppData\\Local\\Microsoft\\WindowsApps\\PythonSoftwareFoundation.Python.3.11_3.11.2544.0_x64__qbz5n2kfra8p0\n",
      "Executable:     python\n",
      "Valid:          False\n",
      "\n",
      "Base\n",
      "Platform:   win32\n",
      "OS:         nt\n",
      "Python:     3.11.9\n",
      "Path:       C:\\Users\\Karina\\AppData\\Local\\Microsoft\\WindowsApps\\PythonSoftwareFoundation.Python.3.11_3.11.2544.0_x64__qbz5n2kfra8p0\n",
      "Executable: python\n"
     ]
    }
   ],
   "source": [
    "!poetry env info"
   ]
  },
  {
   "cell_type": "markdown",
   "metadata": {},
   "source": [
    "### Espacio de acciones y observaciones"
   ]
  },
  {
   "cell_type": "code",
   "execution_count": 14,
   "metadata": {},
   "outputs": [],
   "source": [
    "env = RiverCrossingEnv()"
   ]
  },
  {
   "cell_type": "code",
   "execution_count": 15,
   "metadata": {},
   "outputs": [
    {
     "data": {
      "text/plain": [
       "Dict('Aside': Discrete(2), 'Bside': Discrete(2), 'Cside': Discrete(2), 'Dside': Discrete(2))"
      ]
     },
     "execution_count": 15,
     "metadata": {},
     "output_type": "execute_result"
    }
   ],
   "source": [
    "env.observation_space"
   ]
  },
  {
   "cell_type": "code",
   "execution_count": 16,
   "metadata": {},
   "outputs": [
    {
     "data": {
      "text/plain": [
       "{'Aside': np.int64(1),\n",
       " 'Bside': np.int64(0),\n",
       " 'Cside': np.int64(1),\n",
       " 'Dside': np.int64(0)}"
      ]
     },
     "execution_count": 16,
     "metadata": {},
     "output_type": "execute_result"
    }
   ],
   "source": [
    "env.observation_space.sample()"
   ]
  },
  {
   "cell_type": "code",
   "execution_count": 17,
   "metadata": {},
   "outputs": [
    {
     "data": {
      "text/plain": [
       "Dict('direction': Discrete(2), 'person1': Discrete(4), 'person2': Discrete(4))"
      ]
     },
     "execution_count": 17,
     "metadata": {},
     "output_type": "execute_result"
    }
   ],
   "source": [
    "env.action_space"
   ]
  },
  {
   "cell_type": "code",
   "execution_count": 18,
   "metadata": {},
   "outputs": [
    {
     "data": {
      "text/plain": [
       "{'direction': np.int64(1), 'person1': np.int64(0), 'person2': np.int64(3)}"
      ]
     },
     "execution_count": 18,
     "metadata": {},
     "output_type": "execute_result"
    }
   ],
   "source": [
    "env.action_space.sample()"
   ]
  },
  {
   "cell_type": "markdown",
   "metadata": {},
   "source": [
    "### Input Agent"
   ]
  },
  {
   "cell_type": "markdown",
   "metadata": {},
   "source": [
    "Comencemos realizando un agente input, en el cual proporcionaremos la acción para ser ejecutada sobre el ambiente"
   ]
  },
  {
   "cell_type": "code",
   "execution_count": null,
   "metadata": {},
   "outputs": [
    {
     "name": "stdout",
     "output_type": "stream",
     "text": [
      "ABCD //// Empty\n",
      "Unknown person code\n",
      "Unknown direction code\n",
      "Unknown person code\n",
      "Unknown direction code\n",
      "Unknown person code\n",
      "Unknown direction code\n",
      "Unknown person code\n",
      "Unknown direction code\n"
     ]
    }
   ],
   "source": [
    "# Instanciar el entorno\n",
    "env = RiverCrossingEnv()\n",
    "obs = env.reset()\n",
    "done = False\n",
    "\n",
    "# Instanciar el agente\n",
    "input_agent = InputAgent()\n",
    "\n",
    "# Esqueleto\n",
    "while not done:\n",
    "    # Renderizar el entorno (opcional)\n",
    "    env.render()\n",
    "    \n",
    "    # Obtener la acción del agente\n",
    "    action = input_agent.next_action(obs)\n",
    "        \n",
    "    # Ejecutar la acción en el entorno\n",
    "    obs, reward, done, info = env.step(action)\n",
    "    \n",
    "env.render()\n",
    "finish(reward)"
   ]
  },
  {
   "cell_type": "markdown",
   "metadata": {},
   "source": [
    "### Random Agent"
   ]
  },
  {
   "cell_type": "markdown",
   "metadata": {},
   "source": [
    "Codifique un agente que ejecute acciones aleatorias sobre el ambiente"
   ]
  },
  {
   "cell_type": "code",
   "execution_count": 1,
   "metadata": {},
   "outputs": [
    {
     "name": "stdout",
     "output_type": "stream",
     "text": [
      "ABCD //// Empty\n",
      "ABCD //// Empty\n",
      "ABCD //// Empty\n",
      "BD //// AC\n",
      "BD //// AC\n",
      "ABCD //// Empty\n",
      "CD //// AB\n",
      "CD //// AB\n",
      "CD //// AB\n",
      "CD //// AB\n",
      "CD //// AB\n",
      "CD //// AB\n",
      "CD //// AB\n",
      "ABCD //// Empty\n",
      "ABCD //// Empty\n",
      "Try again!\n"
     ]
    }
   ],
   "source": [
    "from river_crossing_env import RiverCrossingEnv\n",
    "from random_agent import RandomAgent\n",
    "from river_crossing_utils import finish\n",
    "\n",
    "env = RiverCrossingEnv()\n",
    "agent = RandomAgent(env)\n",
    "\n",
    "obs = env.reset()\n",
    "done = False\n",
    "reward = 0\n",
    "\n",
    "while not done:\n",
    "    env.render()  # opcional: ver estado\n",
    "    action = agent.next_action(obs)\n",
    "    obs, reward, done, info = env.step(action)\n",
    "\n",
    "finish(reward)"
   ]
  },
  {
   "cell_type": "markdown",
   "metadata": {},
   "source": [
    "### Action List Agent"
   ]
  },
  {
   "cell_type": "markdown",
   "metadata": {},
   "source": [
    "Codifique un agente que ejecute acciones que provienen de una lista de acciones predefinidas. El agente debe ejecutar las acciones en orden.\n",
    "\n",
    "A continuación se muestra un ejemplo de uso con una secuencia preestablecida."
   ]
  },
  {
   "cell_type": "code",
   "execution_count": 2,
   "metadata": {},
   "outputs": [
    {
     "name": "stdout",
     "output_type": "stream",
     "text": [
      "ABCD //// Empty\n",
      "CD //// AB\n",
      "ACD //// B\n",
      "A //// BCD\n",
      "AB //// CD\n",
      "Empty //// ABCD\n",
      "Congratulations! You have solved the problem\n"
     ]
    }
   ],
   "source": [
    "from river_crossing_env import RiverCrossingEnv\n",
    "from action_list_agent import ActionListAgent\n",
    "from river_crossing_utils import finish\n",
    "\n",
    "# Secuencia de acciones: lista de dicts {direction, person1, person2}\n",
    "# Nota: Esta es solo un ejemplo; el entorno validará cada acción.\n",
    "actions = [\n",
    "    {\"direction\": 1, \"person1\": 0, \"person2\": 1},  # A y B -> derecha\n",
    "    {\"direction\": 0, \"person1\": 0, \"person2\": 0},  # A <- izquierda (A vuelve solo)\n",
    "    {\"direction\": 1, \"person1\": 2, \"person2\": 3},  # C y D -> derecha\n",
    "    {\"direction\": 0, \"person1\": 1, \"person2\": 1},  # B <- izquierda (B vuelve solo)\n",
    "    {\"direction\": 1, \"person1\": 0, \"person2\": 1},  # A y B -> derecha\n",
    "]\n",
    "\n",
    "env = RiverCrossingEnv()\n",
    "agent = ActionListAgent(env, actions)\n",
    "\n",
    "obs = env.reset()\n",
    "done = False\n",
    "reward = 0\n",
    "\n",
    "while not done:\n",
    "    env.render()\n",
    "    try:\n",
    "        action = agent.next_action(obs)\n",
    "    except IndexError:\n",
    "        # Sin más acciones, se aborta el loop\n",
    "        break\n",
    "    obs, reward, done, info = env.step(action)\n",
    "\n",
    "env.render()\n",
    "finish(reward)\n"
   ]
  },
  {
   "cell_type": "markdown",
   "metadata": {},
   "source": [
    "### Simple Reflex Agent"
   ]
  },
  {
   "cell_type": "markdown",
   "metadata": {},
   "source": [
    "Codifique un agente que ejecute acciones basadas en una estrategia.\n",
    "\n",
    "A continuación se muestra un agente de tipo reflejo simple que codifica una estrategia conocida que resuelve el problema en 15 minutos."
   ]
  },
  {
   "cell_type": "code",
   "execution_count": 3,
   "metadata": {},
   "outputs": [
    {
     "name": "stdout",
     "output_type": "stream",
     "text": [
      "ABCD //// Empty\n",
      "CD //// AB\n",
      "ACD //// B\n",
      "A //// BCD\n",
      "AB //// CD\n",
      "Empty //// ABCD\n",
      "Congratulations! You have solved the problem\n"
     ]
    }
   ],
   "source": [
    "from river_crossing_env import RiverCrossingEnv\n",
    "from simple_reflex_agent import SimpleReflexAgent\n",
    "from river_crossing_utils import finish\n",
    "\n",
    "env = RiverCrossingEnv()\n",
    "agent = SimpleReflexAgent(env)\n",
    "\n",
    "obs = env.reset()\n",
    "done = False\n",
    "reward = 0\n",
    "\n",
    "while not done:\n",
    "    env.render()\n",
    "    action = agent.next_action(obs)\n",
    "    obs, reward, done, info = env.step(action)\n",
    "\n",
    "env.render()\n",
    "finish(reward)\n"
   ]
  }
 ],
 "metadata": {
  "kernelspec": {
   "display_name": "Python 3",
   "language": "python",
   "name": "python3"
  },
  "language_info": {
   "codemirror_mode": {
    "name": "ipython",
    "version": 3
   },
   "file_extension": ".py",
   "mimetype": "text/x-python",
   "name": "python",
   "nbconvert_exporter": "python",
   "pygments_lexer": "ipython3",
   "version": "3.11.9"
  }
 },
 "nbformat": 4,
 "nbformat_minor": 2
}
